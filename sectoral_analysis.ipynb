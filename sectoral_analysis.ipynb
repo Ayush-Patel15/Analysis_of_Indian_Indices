{
 "cells": [
  {
   "cell_type": "markdown",
   "metadata": {},
   "source": [
    "### Nifty Major Sectors Analysis - For the last 5 years"
   ]
  },
  {
   "cell_type": "markdown",
   "metadata": {},
   "source": [
    "Nifty's Sectoral Analysis, keeping the Nifty50 as the base index. Indices included are:\n",
    "\n",
    "- Nifty Bank\n",
    "- Nifty Financial Service\n",
    "- Nifty Auto\n",
    "- Nifty IT\n",
    "- Nifty Metal\n",
    "- Nifty FMCG\n",
    "- Nifty Pharma\n",
    "- Nifty HealthCare\n",
    "- Nifty Consumer Durables\n",
    "\n",
    "`NIFTY50` as the base index - to see and compare the performance"
   ]
  },
  {
   "cell_type": "code",
   "execution_count": null,
   "metadata": {},
   "outputs": [],
   "source": [
    "import warnings\n",
    "warnings.filterwarnings(\"ignore\")"
   ]
  },
  {
   "cell_type": "code",
   "execution_count": null,
   "metadata": {},
   "outputs": [],
   "source": [
    "## Import Statements\n",
    "import pandas as pd\n",
    "from tqdm import tqdm\n",
    "from datetime import date\n",
    "import matplotlib.pyplot as plt"
   ]
  },
  {
   "cell_type": "code",
   "execution_count": null,
   "metadata": {},
   "outputs": [],
   "source": [
    "## Function to resample the given dataframe on the timeframe provided\n",
    "def resample_dataframe(df, timeframe):\n",
    "    ohlc_aggregator = {\n",
    "        \"Open\": \"first\",\n",
    "        \"High\": \"max\",\n",
    "        \"Low\": \"min\",\n",
    "        \"Close\": \"last\"\n",
    "    }\n",
    "    df = df.resample(timeframe, on=\"Date\").agg(ohlc_aggregator)\n",
    "    df.dropna(inplace=True)\n",
    "    return df"
   ]
  },
  {
   "cell_type": "code",
   "execution_count": null,
   "metadata": {},
   "outputs": [],
   "source": [
    "## Main function to create a overall dataframe, with sectors as columns\n",
    "def create_sectoral_dataframe(SECTORS_DATA_PATH, base_index, start_date, end_date, timeframe):\n",
    "    ## Global dataframe\n",
    "    overall_sector_df = pd.DataFrame()\n",
    "    ## Open the Nifty DF & get the close\n",
    "    nifty_df = pd.read_csv(f\"{SECTORS_DATA_PATH}\\\\{base_index}_minute.csv\", index_col=0)\n",
    "    nifty_df[\"Date\"] = pd.to_datetime(nifty_df[\"Date\"])\n",
    "    nifty_df = resample_dataframe(nifty_df, timeframe)\n",
    "    nifty_df = nifty_df[start_date:end_date]\n",
    "    ## Append the close to the overall df\n",
    "    overall_sector_df = nifty_df[[\"Close\"]]\n",
    "    overall_sector_df.rename(columns={\"Close\":f\"Close_{base_index}\"}, inplace=True)\n",
    "    ## Loop in to each sector\n",
    "    for sector in tqdm(sectors_list):\n",
    "        # print(f\"********* SECTOR: {sector} ***********\")\n",
    "        sector_df = pd.read_csv(f\"{SECTORS_DATA_PATH}\\\\{sector}_minute.csv\", index_col=0)\n",
    "        sector_df[\"Date\"] = pd.to_datetime(sector_df[\"Date\"])\n",
    "        sector_df = resample_dataframe(sector_df, timeframe)\n",
    "        sector_df = sector_df[start_date:end_date]\n",
    "        overall_sector_df = pd.concat([overall_sector_df, sector_df[[\"Close\"]]], axis=1)\n",
    "        overall_sector_df.rename(columns={\"Close\":f\"Close_{sector}\"}, inplace=True)\n",
    "    ## Apply fillna methods\n",
    "    overall_sector_df.fillna(method=\"bfill\", inplace=True)\n",
    "    overall_sector_df.fillna(method=\"ffill\", inplace=True)\n",
    "    return overall_sector_df"
   ]
  },
  {
   "cell_type": "code",
   "execution_count": null,
   "metadata": {},
   "outputs": [],
   "source": [
    "## Sectors list to include\n",
    "sectors_list = [\"NIFTY BANK\", \"NIFTY FMCG\", \"NIFTY FIN SERVICE\", \"NIFTY IT\", \"NIFTY METAL\",\n",
    "                \"NIFTY AUTO\", \"NIFTY PHARMA\", \"NIFTY ENERGY\", \"NIFTY 100\"]\n",
    "base_index = \"NIFTY 50\""
   ]
  },
  {
   "cell_type": "code",
   "execution_count": null,
   "metadata": {},
   "outputs": [],
   "source": [
    "## Variables and file paths\n",
    "SECTORS_DATA_PATH = \"F:\\\\MyProjects\\\\StockStrategies\\\\SectorIndex_1min_Data\"\n",
    "start_date = date(2018,4,1)\n",
    "end_date = date(2023,3,31)\n",
    "timeframe = \"D\"\n",
    "overall_sector_df = create_sectoral_dataframe(SECTORS_DATA_PATH, base_index, start_date, end_date, timeframe)"
   ]
  },
  {
   "cell_type": "code",
   "execution_count": null,
   "metadata": {},
   "outputs": [],
   "source": [
    "overall_sector_df.head()"
   ]
  },
  {
   "cell_type": "code",
   "execution_count": null,
   "metadata": {},
   "outputs": [],
   "source": [
    "### Overall Returns across each sector\n",
    "sectoral_returns = {}\n",
    "for column in overall_sector_df.columns:\n",
    "    sector_name = column.split(\"_\")[1]\n",
    "    return_pct = round(((overall_sector_df.iloc[-1][column]-overall_sector_df.iloc[0][column])/overall_sector_df.iloc[0][column]*100), 3)\n",
    "    sectoral_returns[sector_name] = return_pct\n",
    "sectoral_returns"
   ]
  },
  {
   "cell_type": "markdown",
   "metadata": {},
   "source": [
    "### Visualisation - Graphs"
   ]
  },
  {
   "cell_type": "code",
   "execution_count": null,
   "metadata": {},
   "outputs": [],
   "source": [
    "## Matplotlib to create a graph - for the first 5 indices (more common)\n",
    "plt.figure(figsize=(12, 6))\n",
    "## Plot the line graph\n",
    "plt.plot(overall_sector_df.index, overall_sector_df[f\"Close_{base_index}\"], color=\"black\", linewidth=3, label=base_index)\n",
    "for column in overall_sector_df.columns[1:5]:\n",
    "    plt.plot(overall_sector_df.index, overall_sector_df[column], label=column.split(\"_\")[1])\n",
    "## Adding labels and titles\n",
    "plt.xlabel(\"Date\")\n",
    "plt.ylabel(\"Daily Closing Price\")\n",
    "plt.title(\"Sectoral Performance of Different Indices\")\n",
    "plt.legend(loc=\"best\")\n",
    "plt.tight_layout()\n",
    "plt.show()"
   ]
  },
  {
   "cell_type": "code",
   "execution_count": null,
   "metadata": {},
   "outputs": [],
   "source": [
    "## Matplotlib to create a graph - for the other 5 indices (less common)\n",
    "plt.figure(figsize=(12, 6))\n",
    "## Plot the line graph\n",
    "plt.plot(overall_sector_df.index, overall_sector_df[f\"Close_{base_index}\"], color=\"black\", linewidth=3, label=base_index)\n",
    "for column in overall_sector_df.columns[5:]:\n",
    "    plt.plot(overall_sector_df.index, overall_sector_df[column], label=column.split(\"_\")[1])\n",
    "## Adding labels and titles\n",
    "plt.xlabel(\"Date\")\n",
    "plt.ylabel(\"Daily Closing Price\")\n",
    "plt.title(\"Sectoral Performance of Different Indices\")\n",
    "plt.legend(loc=\"best\")\n",
    "plt.tight_layout()\n",
    "plt.show()"
   ]
  },
  {
   "cell_type": "code",
   "execution_count": null,
   "metadata": {},
   "outputs": [],
   "source": [
    "## Matplotlib to create a bar graph - of the returns over the last years\n",
    "plt.figure(figsize=(10, 5))\n",
    "## Plot the bar graph\n",
    "plt.bar(sectoral_returns.keys(), sectoral_returns.values(), color=\"green\")\n",
    "for category, value in zip(sectoral_returns.keys(), sectoral_returns.values()):\n",
    "    plt.text(category, value, str(value), ha='center', va='bottom')\n",
    "## Adding labels and titles\n",
    "plt.xlabel(\"Sectors\")\n",
    "plt.ylabel(\"Returns (In pct)\")\n",
    "plt.title(\"Sectoral Returns of Different Indices\")\n",
    "plt.xticks(rotation=45)\n",
    "plt.tight_layout()\n",
    "plt.show()"
   ]
  }
 ],
 "metadata": {
  "kernelspec": {
   "display_name": "Python 3",
   "language": "python",
   "name": "python3"
  },
  "language_info": {
   "codemirror_mode": {
    "name": "ipython",
    "version": 3
   },
   "file_extension": ".py",
   "mimetype": "text/x-python",
   "name": "python",
   "nbconvert_exporter": "python",
   "pygments_lexer": "ipython3",
   "version": "3.8.5"
  },
  "orig_nbformat": 4
 },
 "nbformat": 4,
 "nbformat_minor": 2
}
