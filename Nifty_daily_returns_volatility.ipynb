{
 "cells": [
  {
   "cell_type": "markdown",
   "metadata": {},
   "source": [
    "### Study of Daily Volatility/Returns of Nifty 50"
   ]
  },
  {
   "cell_type": "markdown",
   "metadata": {},
   "source": [
    "- Read the CSV data, convert it to a dataframe and calculate daily returns\n",
    "- Calculate the mean of daily returns\n",
    "- Plot a histogram of daily returns - to visualize a normal distribution\n",
    "- Calculate measures like skewness and kurtosis"
   ]
  },
  {
   "cell_type": "code",
   "execution_count": null,
   "metadata": {},
   "outputs": [],
   "source": [
    "## Imports: Necessary libraries\n",
    "import pandas as pd\n",
    "from tqdm import tqdm\n",
    "import matplotlib.pyplot as plt\n",
    "from scipy.stats import kurtosis, skew"
   ]
  },
  {
   "cell_type": "code",
   "execution_count": null,
   "metadata": {},
   "outputs": [],
   "source": [
    "## Function to calculate the daily returns\n",
    "def get_daily_retruns(spot_df):\n",
    "    ## OHLC aggregator function\n",
    "    ohlc_aggregator = {\n",
    "        \"Open\": \"first\",\n",
    "        \"High\": \"max\",\n",
    "        \"Low\": \"min\",\n",
    "        \"Close\": \"last\",\n",
    "    }\n",
    "    ## Resampling of dataframe based on daily basis\n",
    "    spot_df = spot_df.resample(\"D\", on=\"Date\").agg(ohlc_aggregator)\n",
    "    spot_df.reset_index(inplace=True)\n",
    "    spot_df.dropna(inplace=True)\n",
    "    ## Calculate daily returns\n",
    "    spot_df[\"Returns\"] = round((spot_df[\"Close\"].pct_change() * 100), 3)\n",
    "    spot_df = spot_df[1:]\n",
    "    return spot_df"
   ]
  },
  {
   "cell_type": "code",
   "execution_count": null,
   "metadata": {},
   "outputs": [],
   "source": [
    "## Input file pahts\n",
    "BASE_PATH = \"F:\\\\MyProjects\\\\StockStrategies\\\\SectorIndex_1min_Data\"\n",
    "nifty_df = pd.read_csv(f\"{BASE_PATH}\\\\NIFTY 50_minute.csv\", index_col=0)\n",
    "## Filtering out the duration\n",
    "start_date = \"2018-04-01\"\n",
    "end_date = \"2023-03-31\"\n",
    "nifty_df = nifty_df[(nifty_df[\"Date\"]>=start_date) & (nifty_df[\"Date\"]<=end_date)]\n",
    "nifty_df[\"Date\"] = pd.to_datetime(nifty_df[\"Date\"])\n",
    "## Dropping of non-required columns\n",
    "nifty_df.drop(columns=\"Volume\", inplace=True)"
   ]
  },
  {
   "cell_type": "code",
   "execution_count": null,
   "metadata": {},
   "outputs": [],
   "source": [
    "## Call the main function\n",
    "nifty_daily_df = get_daily_retruns(spot_df=nifty_df)"
   ]
  },
  {
   "cell_type": "code",
   "execution_count": null,
   "metadata": {},
   "outputs": [],
   "source": [
    "## Result DataFrame\n",
    "nifty_daily_df.head()"
   ]
  },
  {
   "cell_type": "code",
   "execution_count": null,
   "metadata": {},
   "outputs": [],
   "source": [
    "## Filter the extreme high volatilities dates\n",
    "high_volatility = nifty_daily_df[(nifty_daily_df[\"Returns\"]>5) | (nifty_daily_df[\"Returns\"]<-5)]\n",
    "print(f\"Length of High Volatility Dataframe:\", len(high_volatility))\n",
    "high_volatility"
   ]
  },
  {
   "cell_type": "code",
   "execution_count": null,
   "metadata": {},
   "outputs": [],
   "source": [
    "## In general days - After removing extreme points\n",
    "nifty_daily_df = nifty_daily_df[(nifty_daily_df[\"Returns\"]<=5) & (nifty_daily_df[\"Returns\"]>=-5)]"
   ]
  },
  {
   "cell_type": "code",
   "execution_count": null,
   "metadata": {},
   "outputs": [],
   "source": [
    "## Mean and Std. Deviation of Daily Returns\n",
    "mean_df = round(nifty_daily_df[\"Returns\"].mean(), 2)\n",
    "std_df = round(nifty_daily_df[\"Returns\"].std(), 2)\n",
    "print(\"Mean of Daily Returns:\", mean_df)\n",
    "print(\"Std. Deviation of Daily Returns:\", std_df)"
   ]
  },
  {
   "cell_type": "markdown",
   "metadata": {},
   "source": [
    "#### Visualization of Graphs"
   ]
  },
  {
   "cell_type": "code",
   "execution_count": null,
   "metadata": {},
   "outputs": [],
   "source": [
    "# Plot the histogram of Daily Returns\n",
    "plt.figure(figsize=(10,5))\n",
    "plt.hist(nifty_daily_df['Returns'], bins=75, color='blue', alpha=0.9)\n",
    "plt.xlabel('Daily Returns (%)')\n",
    "plt.ylabel('Frequency')\n",
    "plt.title('Histogram of Nifty 50 Daily Returns')\n",
    "plt.grid(True)\n",
    "plt.show()"
   ]
  },
  {
   "cell_type": "code",
   "execution_count": null,
   "metadata": {},
   "outputs": [],
   "source": [
    "# Calculate kurtosis and skewness\n",
    "kurt = round(kurtosis(nifty_daily_df['Returns']), 2)\n",
    "skewness = round(skew(nifty_daily_df['Returns']), 2)\n",
    "print(\"Skewness of distribution:\", skewness)\n",
    "print(\"Kurtosis of distribution:\", kurt)"
   ]
  },
  {
   "cell_type": "markdown",
   "metadata": {},
   "source": [
    "#### Proof of Normal Distribution"
   ]
  },
  {
   "cell_type": "code",
   "execution_count": null,
   "metadata": {},
   "outputs": [],
   "source": [
    "## 1st Standard Deviation\n",
    "lower_st = (mean_df - (1 * std_df))\n",
    "upper_st = (mean_df + (1 * std_df))\n",
    "std_1_df = nifty_daily_df[(nifty_daily_df[\"Returns\"]>=lower_st) & (nifty_daily_df[\"Returns\"]<=upper_st)]\n",
    "pct = round((len(std_1_df)/len(nifty_daily_df))*100, 2)\n",
    "print(f\"Daily Returns are in b/w the 1st standard deviation: {pct}\")"
   ]
  },
  {
   "cell_type": "code",
   "execution_count": null,
   "metadata": {},
   "outputs": [],
   "source": [
    "## 2nd Standard Deviation\n",
    "lower_st = (mean_df - (2 * std_df))\n",
    "upper_st = (mean_df + (2 * std_df))\n",
    "std_2_df = nifty_daily_df[(nifty_daily_df[\"Returns\"]>=lower_st) & (nifty_daily_df[\"Returns\"]<=upper_st)]\n",
    "pct = round((len(std_2_df)/len(nifty_daily_df))*100, 2)\n",
    "print(f\"Daily Returns are in b/w the 2nd standard deviation: {pct}\")"
   ]
  }
 ],
 "metadata": {
  "kernelspec": {
   "display_name": "Python 3",
   "language": "python",
   "name": "python3"
  },
  "language_info": {
   "codemirror_mode": {
    "name": "ipython",
    "version": 3
   },
   "file_extension": ".py",
   "mimetype": "text/x-python",
   "name": "python",
   "nbconvert_exporter": "python",
   "pygments_lexer": "ipython3",
   "version": "3.8.5"
  }
 },
 "nbformat": 4,
 "nbformat_minor": 2
}
