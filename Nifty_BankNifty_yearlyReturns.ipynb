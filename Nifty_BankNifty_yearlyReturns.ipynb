{
 "cells": [
  {
   "cell_type": "markdown",
   "metadata": {},
   "source": [
    "#### Nifty & BankNifty Yearly Returns\n",
    "\n",
    "- Graph to visualise Nifty 50 and BankNifty yearly returns from 2015-2023\n",
    "- Calculate metrics like variance, standard deviation, covariance, and correlation\n",
    "- Track or compare the annual returns with annual inflation rate\n",
    "- Total returns over the specified interval"
   ]
  },
  {
   "cell_type": "code",
   "execution_count": null,
   "metadata": {},
   "outputs": [],
   "source": [
    "## Imports: Necessary libraries\n",
    "import pandas as pd\n",
    "import numpy as np\n",
    "from tqdm import tqdm\n",
    "from datetime import date, datetime\n",
    "import matplotlib.pyplot as plt"
   ]
  },
  {
   "cell_type": "code",
   "execution_count": null,
   "metadata": {},
   "outputs": [],
   "source": [
    "## Creating a yearly dataframe - from an input dataframe\n",
    "def create_yearly_dataframe(input_df):\n",
    "    ## OHLC aggregator function\n",
    "    ohlc_aggregator = {\n",
    "        \"Open\": \"first\",\n",
    "        \"High\": \"max\",\n",
    "        \"Low\": \"min\",\n",
    "        \"Close\": \"last\"\n",
    "    }\n",
    "    ## Resampling of dataframe based on financial year - from April - March\n",
    "    yearly_df = input_df.resample(\"A-MAR\", on=\"Date\").agg(ohlc_aggregator)\n",
    "    yearly_df.reset_index(inplace=True)\n",
    "    return yearly_df"
   ]
  },
  {
   "cell_type": "code",
   "execution_count": null,
   "metadata": {},
   "outputs": [],
   "source": [
    "## Reading of Input Files\n",
    "BASE_PATH = \"F:\\\\MyProjects\\\\StockStrategies\\\\SectorIndex_1min_Data\"\n",
    "nifty_df = pd.read_csv(f\"{BASE_PATH}\\\\NIFTY 50_minute.csv\", index_col=0)\n",
    "banknifty_df = pd.read_csv(f\"{BASE_PATH}\\\\NIFTY BANK_minute.csv\", index_col=0)\n",
    "## Converting the Date Column to a date-time index\n",
    "nifty_df[\"Date\"] = pd.to_datetime(nifty_df[\"Date\"])\n",
    "banknifty_df[\"Date\"] = pd.to_datetime(banknifty_df[\"Date\"])\n",
    "## Slice the data upto recent March 31st - March 31, 2023\n",
    "nifty_df = nifty_df[(nifty_df[\"Date\"]<=\"2023-03-31\")]\n",
    "banknifty_df = banknifty_df[(banknifty_df[\"Date\"]<=\"2023-03-31\")]\n",
    "## Preparing the yearly dataframe\n",
    "nifty_yearly_df = create_yearly_dataframe(input_df=nifty_df)\n",
    "bn_yearly_df = create_yearly_dataframe(input_df=banknifty_df)"
   ]
  },
  {
   "cell_type": "code",
   "execution_count": null,
   "metadata": {},
   "outputs": [],
   "source": [
    "## Now add the column of change_percentage i.e. annual return for the year\n",
    "nifty_yearly_df[\"Chg_pct\"] = round((nifty_yearly_df[\"Close\"].pct_change() * 100), 3)\n",
    "bn_yearly_df[\"Chg_pct\"] = round((bn_yearly_df[\"Close\"].pct_change() * 100), 3)"
   ]
  },
  {
   "cell_type": "code",
   "execution_count": null,
   "metadata": {},
   "outputs": [],
   "source": [
    "## Annual inflation data of India\n",
    "inflation_data_list = [4.93, 4.60, 3.55, 3.38, 4.50, 6.11, 5.38, 6.77]"
   ]
  },
  {
   "cell_type": "code",
   "execution_count": null,
   "metadata": {},
   "outputs": [],
   "source": [
    "## Create a merged dataframe, for plotting the bar graphs\n",
    "merged_data = pd.merge(nifty_yearly_df[[\"Date\",\"Chg_pct\"]], bn_yearly_df[[\"Date\",\"Chg_pct\"]], on=\"Date\", suffixes=(\"_Nifty\", \"_BankNifty\"))\n",
    "merged_data[\"Date\"] = merged_data[\"Date\"].dt.year\n",
    "merged_data.set_index(\"Date\", inplace=True)\n",
    "merged_data.dropna(inplace=True)"
   ]
  },
  {
   "cell_type": "code",
   "execution_count": null,
   "metadata": {},
   "outputs": [],
   "source": [
    "## Create a bar graph plot - of the annual return\n",
    "plt.figure(figsize=(30, 10))\n",
    "ax = merged_data.plot(kind='bar', width=0.85)\n",
    "plt.plot(inflation_data_list, color=\"red\", marker=\"o\")\n",
    "plt.title(\"Annual Returns of Nifty and Bank Nifty: 2015-2023\")\n",
    "plt.xlabel(\"Financial Year\")\n",
    "plt.ylabel(\"Annual Return (in percentage)\")\n",
    "plt.ylim(-60, 100)\n",
    "plt.legend(['Inflation','Nifty', 'Bank Nifty'], loc=\"upper left\")\n",
    "ax.axhline(y=0, color='black', linestyle='-', label='Zero Line')\n",
    "# Add labels with percentages inside the bars, vertically rotated\n",
    "for p in ax.patches:\n",
    "    height = p.get_height()\n",
    "    if height >= 0:\n",
    "        xytext = (0, 5)\n",
    "        va = 'bottom'\n",
    "    else:\n",
    "        xytext = (0, -2)\n",
    "        va = 'top'\n",
    "    ax.annotate(f'{height:.1f}%', (p.get_x() + p.get_width() / 2., height),\n",
    "                ha='center', va=va, fontsize=8, color='black', xytext=xytext,\n",
    "                textcoords='offset points', rotation=90)\n",
    "## To display the bar chart\n",
    "plt.show()"
   ]
  },
  {
   "cell_type": "code",
   "execution_count": null,
   "metadata": {},
   "outputs": [],
   "source": [
    "## Calculate different metrics of Nifty and Bank Nifty\n",
    "## Set ddof=0 for population standard deviation\n",
    "########## Variance ##########\n",
    "nifty_variance = np.var(merged_data['Chg_pct_Nifty'], ddof=0)\n",
    "banknifty_variance = np.var(merged_data['Chg_pct_BankNifty'], ddof=0)\n",
    "########## Standard Deviation ##########\n",
    "nifty_std_deviation = np.std(merged_data['Chg_pct_Nifty'], ddof=0)\n",
    "banknifty_std_deviation = np.std(merged_data['Chg_pct_BankNifty'], ddof=0)\n",
    "########## Covariance ##########\n",
    "covariance = np.cov(merged_data['Chg_pct_Nifty'], merged_data['Chg_pct_BankNifty'], ddof=0)[0, 1]\n",
    "########## Correlation ##########\n",
    "correlation = np.corrcoef(merged_data['Chg_pct_Nifty'], merged_data['Chg_pct_BankNifty'])[0, 1]"
   ]
  },
  {
   "cell_type": "code",
   "execution_count": null,
   "metadata": {},
   "outputs": [],
   "source": [
    "## Print out the results\n",
    "print(f\"Nifty Variance: {nifty_variance: .2f}\")\n",
    "print(f\"BankNifty Variance: {banknifty_variance: .2f}\")\n",
    "print(f\"Nifty Std Deviation: {nifty_std_deviation: .2f}\")\n",
    "print(f\"BankNifty Std Deviation: {banknifty_std_deviation: .2f}\")\n",
    "print(f\"CoVariance: {covariance: .2f}\")\n",
    "print(f\"Correlation: {correlation: .2f}\")"
   ]
  },
  {
   "cell_type": "code",
   "execution_count": null,
   "metadata": {},
   "outputs": [],
   "source": [
    "## Whereas the cummulative sum of chg_pct of Nifty and Bank Nifty\n",
    "print(\"Nifty: Total return (in percentage): \", round(merged_data[\"Chg_pct_Nifty\"].sum(),2))\n",
    "print(\"BankNifty: Total return (in percentage): \", round(merged_data[\"Chg_pct_BankNifty\"].sum(),2))"
   ]
  }
 ],
 "metadata": {
  "kernelspec": {
   "display_name": "Python 3",
   "language": "python",
   "name": "python3"
  },
  "language_info": {
   "codemirror_mode": {
    "name": "ipython",
    "version": 3
   },
   "file_extension": ".py",
   "mimetype": "text/x-python",
   "name": "python",
   "nbconvert_exporter": "python",
   "pygments_lexer": "ipython3",
   "version": "3.8.5"
  },
  "orig_nbformat": 4
 },
 "nbformat": 4,
 "nbformat_minor": 2
}
