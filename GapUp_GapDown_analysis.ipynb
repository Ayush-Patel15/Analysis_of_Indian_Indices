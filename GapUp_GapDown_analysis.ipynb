{
 "cells": [
  {
   "cell_type": "markdown",
   "metadata": {},
   "source": [
    "### Check for the movements of Index - Based on its Open\n",
    "\n",
    "- If it opens above previous day high\n",
    "- If it opens below previous day low\n",
    "\n",
    "Analyze the movement of the indices on the GapUp and GapDown days, calculate the data points like the `GapUp-Days`, `GapDown-Days`,\n",
    "`Closing_above_the_open_pct`, and etc."
   ]
  },
  {
   "cell_type": "code",
   "execution_count": null,
   "metadata": {},
   "outputs": [],
   "source": [
    "## Import Statements\n",
    "import warnings\n",
    "warnings.filterwarnings(\"ignore\")\n",
    "import pandas as pd\n",
    "import numpy as np\n",
    "import datetime"
   ]
  },
  {
   "cell_type": "code",
   "execution_count": null,
   "metadata": {},
   "outputs": [],
   "source": [
    "## Function to calculate or populate the gapup data variables\n",
    "def gapup_analysis_data(gapup_df, daily_df):\n",
    "    gapup_data = {}\n",
    "    gapup_data[\"GapUp-Days\"] = len(gapup_df)\n",
    "    gapup_data[\"Touched_previous_day_high\"] = len(gapup_df[(gapup_df[\"Low\"] <= gapup_df[\"Prev-High\"])])\n",
    "    gapup_data[\"Closing_above_the_open\"] = len(gapup_df[(gapup_df[\"Close\"] > gapup_df[\"Open\"])])\n",
    "    gapup_data[\"Closing_above_the_prev_high\"] = len(gapup_df[(gapup_df[\"Close\"] > gapup_df[\"Prev-High\"])])\n",
    "    gapup_data[\"Closing_below_the_prev_high\"] = len(gapup_df[(gapup_df[\"Close\"] <= gapup_df[\"Prev-High\"])])\n",
    "    gapup_data[\"Closing_below_the_prev_low\"] = len(gapup_df[(gapup_df[\"Close\"] <= gapup_df[\"Prev-Low\"])])\n",
    "    gapup_data[\"Average_movement_on_gapup_days_pct-LH\"] = round(gapup_df[\"Daily_Movement-LH\"].mean(), 2)\n",
    "    gapup_data[\"Average_movement_on_gapup_days_pct-OC\"] = round(gapup_df[\"Daily_Movement-OC\"].mean(), 2)\n",
    "    gapup_data[\"GapUp-Days_pct\"] = round((gapup_data[\"GapUp-Days\"] / len(daily_df)) * 100, 2)\n",
    "    gapup_data[\"Touched_previous_day_high_pct\"] = round((gapup_data[\"Touched_previous_day_high\"] / gapup_data[\"GapUp-Days\"]) * 100, 2)\n",
    "    gapup_data[\"Closing_above_the_open_pct\"] = round((gapup_data[\"Closing_above_the_open\"] / gapup_data[\"GapUp-Days\"]) * 100, 2)\n",
    "    gapup_data[\"Closing_above_the_prev_high_pct\"] = round((gapup_data[\"Closing_above_the_prev_high\"] / gapup_data[\"GapUp-Days\"]) * 100,2)\n",
    "    gapup_data[\"Closing_below_the_prev_high_pct\"] = round((gapup_data[\"Closing_below_the_prev_high\"] / gapup_data[\"GapUp-Days\"]) * 100, 2)\n",
    "    gapup_data[\"Closing_below_the_prev_low_pct\"] = round((gapup_data[\"Closing_below_the_prev_low\"] / gapup_data[\"GapUp-Days\"]) * 100, 2)\n",
    "    return gapup_data"
   ]
  },
  {
   "cell_type": "code",
   "execution_count": null,
   "metadata": {},
   "outputs": [],
   "source": [
    "## Function to calculate or populate the gapdown data variables\n",
    "def gapdown_analysis_data(gapdown_df, daily_df):\n",
    "    gapdown_data = {}\n",
    "    gapdown_data[\"GapDown-Days\"] = len(gapdown_df)\n",
    "    gapdown_data[\"Touched_previous_day_low\"] = len(gapdown_df[(gapdown_df[\"High\"] >= gapdown_df[\"Prev-Low\"])])\n",
    "    gapdown_data[\"Closing_below_the_open\"] = len(gapdown_df[(gapdown_df[\"Close\"] < gapdown_df[\"Open\"])])\n",
    "    gapdown_data[\"Closing_below_the_prev_low\"] = len(gapdown_df[(gapdown_df[\"Close\"] < gapdown_df[\"Prev-Low\"])])\n",
    "    gapdown_data[\"Closing_above_the_prev_low\"] = len(gapdown_df[(gapdown_df[\"Close\"] >= gapdown_df[\"Prev-Low\"])])\n",
    "    gapdown_data[\"Closing_above_the_prev_high\"] = len(gapdown_df[(gapdown_df[\"Close\"] >= gapdown_df[\"Prev-High\"])])\n",
    "    gapdown_data[\"Average_movement_on_gapdown_days_pct-LH\"] = round(gapdown_df[\"Daily_Movement-LH\"].mean(), 2)\n",
    "    gapdown_data[\"Average_movement_on_gapdown_days_pct-OC\"] = round(gapdown_df[\"Daily_Movement-OC\"].mean(), 2)\n",
    "    gapdown_data[\"GapDown-Days_pct\"] = round((gapdown_data[\"GapDown-Days\"] / len(daily_df)) * 100, 2)\n",
    "    gapdown_data[\"Touched_previous_day_low_pct\"] = round((gapdown_data[\"Touched_previous_day_low\"] / gapdown_data[\"GapDown-Days\"]) * 100, 2)\n",
    "    gapdown_data[\"Closing_below_the_open_pct\"] = round((gapdown_data[\"Closing_below_the_open\"] / gapdown_data[\"GapDown-Days\"]) * 100, 2)\n",
    "    gapdown_data[\"Closing_below_the_prev_low_pct\"] = round((gapdown_data[\"Closing_below_the_prev_low\"] / gapdown_data[\"GapDown-Days\"]) * 100,2)\n",
    "    gapdown_data[\"Closing_above_the_prev_low_pct\"] = round((gapdown_data[\"Closing_above_the_prev_low\"] / gapdown_data[\"GapDown-Days\"]) * 100, 2)\n",
    "    gapdown_data[\"Closing_above_the_prev_high_pct\"] = round((gapdown_data[\"Closing_above_the_prev_high\"] / gapdown_data[\"GapDown-Days\"]) * 100, 2)\n",
    "    return gapdown_data"
   ]
  },
  {
   "cell_type": "code",
   "execution_count": null,
   "metadata": {},
   "outputs": [],
   "source": [
    "## Main function to execute and return the required data\n",
    "def gapup_gadown_data_analysis(daily_df):\n",
    "    ## Add the GapUp and GapDown Columns - and filter out the dataframe\n",
    "    daily_df[\"GapUp-Open\"] = np.where((daily_df[\"Open\"] > daily_df[\"Prev-High\"]), \"GAPUP\", 0)\n",
    "    daily_df[\"GapDown-Open\"] = np.where((daily_df[\"Open\"] < daily_df[\"Prev-Low\"]), \"GAPDOWN\", 0)\n",
    "    gapup_df = daily_df[(daily_df[\"GapUp-Open\"]==\"GAPUP\")]\n",
    "    gapdown_df = daily_df[(daily_df[\"GapDown-Open\"]==\"GAPDOWN\")]\n",
    "    ## Add the movements columns to the dataframe\n",
    "    gapup_df[\"Daily_Movement-LH\"] = ((gapup_df[\"Low\"] - gapup_df[\"High\"]) / gapup_df[\"Low\"]).abs() * 100\n",
    "    gapup_df[\"Daily_Movement-OC\"] = ((gapup_df[\"Open\"] - gapup_df[\"Close\"]) / gapup_df[\"Open\"]).abs() * 100\n",
    "    gapdown_df[\"Daily_Movement-LH\"] = ((gapdown_df[\"Low\"] - gapdown_df[\"High\"]) / gapdown_df[\"Low\"]).abs() * 100\n",
    "    gapdown_df[\"Daily_Movement-OC\"] = ((gapdown_df[\"Open\"] - gapdown_df[\"Close\"]) / gapdown_df[\"Open\"]).abs() * 100\n",
    "    ## Calculate the required data-points\n",
    "    gapup_data_points = gapup_analysis_data(gapup_df, daily_df)\n",
    "    gapdown_data_points = gapdown_analysis_data(gapdown_df, daily_df)\n",
    "    return gapup_data_points, gapdown_data_points"
   ]
  },
  {
   "cell_type": "code",
   "execution_count": null,
   "metadata": {},
   "outputs": [],
   "source": [
    "## Reading of file paths and setting up of variables\n",
    "SPOT_FILE_PATH = \"F:\\\\StockStrategies\\\\Data-All\\\\Sectors_Spot_Data-Daily\\\\NIFTY BANK.csv\"\n",
    "# SPOT_FILE_PATH = \"F:\\\\StockStrategies\\\\Data-All\\\\Sectors_Spot_Data-Daily\\\\NIFTY 50.csv\"\n",
    "start_date = datetime.datetime(2015,4,1)\n",
    "end_date = datetime.datetime(2024,4,1)"
   ]
  },
  {
   "cell_type": "code",
   "execution_count": null,
   "metadata": {},
   "outputs": [],
   "source": [
    "## Prepare the spot daily df as the main df to analyze\n",
    "spot_df = pd.read_csv(SPOT_FILE_PATH, index_col=0)\n",
    "spot_df[\"Date\"] = pd.to_datetime(spot_df[\"Date\"], format=\"%Y-%m-%d\")\n",
    "spot_df = spot_df.set_index(\"Date\")\n",
    "daily_df = spot_df[start_date:end_date]\n",
    "daily_df[\"Prev-High\"] = daily_df[\"High\"].shift()\n",
    "daily_df[\"Prev-Low\"] = daily_df[\"Low\"].shift()\n",
    "daily_df"
   ]
  },
  {
   "cell_type": "code",
   "execution_count": null,
   "metadata": {},
   "outputs": [],
   "source": [
    "## Calling the function - to execute\n",
    "gapup_data_points, gapdown_data_points = gapup_gadown_data_analysis(daily_df)\n",
    "up_df = pd.DataFrame([gapup_data_points], index=[\"Values\"])\n",
    "down_df = pd.DataFrame([gapdown_data_points], index=[\"Values\"])\n",
    "## Transpose the df\n",
    "up_df = up_df.T\n",
    "down_df = down_df.T"
   ]
  },
  {
   "cell_type": "code",
   "execution_count": null,
   "metadata": {},
   "outputs": [],
   "source": [
    "up_df"
   ]
  },
  {
   "cell_type": "code",
   "execution_count": null,
   "metadata": {},
   "outputs": [],
   "source": [
    "down_df"
   ]
  }
 ],
 "metadata": {
  "kernelspec": {
   "display_name": "Python 3",
   "language": "python",
   "name": "python3"
  },
  "language_info": {
   "codemirror_mode": {
    "name": "ipython",
    "version": 3
   },
   "file_extension": ".py",
   "mimetype": "text/x-python",
   "name": "python",
   "nbconvert_exporter": "python",
   "pygments_lexer": "ipython3",
   "version": "3.8.5"
  }
 },
 "nbformat": 4,
 "nbformat_minor": 2
}
