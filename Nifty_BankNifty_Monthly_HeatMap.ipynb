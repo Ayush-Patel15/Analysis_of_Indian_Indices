{
 "cells": [
  {
   "cell_type": "markdown",
   "metadata": {},
   "source": [
    "#### HeatMap of Nifty and BankNifty Monthly Returns\n",
    "\n",
    "- HeatMap to visualise Nifty 50 and BankNifty monthly returns from Apr 2018 - Mar 2023\n",
    "- Helps in figuring out the volatile and non-volatile months\n",
    "- Or can determine some pattern in movement"
   ]
  },
  {
   "cell_type": "code",
   "execution_count": null,
   "metadata": {},
   "outputs": [],
   "source": [
    "## Imports: Necessary libraries\n",
    "import pandas as pd\n",
    "import seaborn as sns\n",
    "import matplotlib.pyplot as plt\n",
    "sns.set()"
   ]
  },
  {
   "cell_type": "code",
   "execution_count": null,
   "metadata": {},
   "outputs": [],
   "source": [
    "## Creating a yearly dataframe - from an input dataframe\n",
    "def create_monthly_dataframe(input_df):\n",
    "    ## OHLC aggregator function\n",
    "    ohlc_aggregator = {\n",
    "        \"Open\": \"first\",\n",
    "        \"High\": \"max\",\n",
    "        \"Low\": \"min\",\n",
    "        \"Close\": \"last\"\n",
    "    }\n",
    "    ## Resampling of dataframe based on financial year - from April - March\n",
    "    monthly_df = input_df.resample(\"M\", on=\"Date\").agg(ohlc_aggregator)\n",
    "    monthly_df.reset_index(inplace=True)\n",
    "    monthly_df[\"Year\"] = monthly_df[\"Date\"].dt.strftime(\"%Y\")\n",
    "    monthly_df[\"Month\"] = monthly_df[\"Date\"].dt.strftime(\"%B\")\n",
    "    return monthly_df"
   ]
  },
  {
   "cell_type": "code",
   "execution_count": null,
   "metadata": {},
   "outputs": [],
   "source": [
    "## Reading of Input Files and setting the start and end date\n",
    "BASE_PATH = \"F:\\\\StockStrategies\\\\Data-All\\\\Sectors_Spot_Data-1min\"\n",
    "nifty_df = pd.read_csv(f\"{BASE_PATH}\\\\NIFTY 50_minute.csv\", index_col=0)\n",
    "banknifty_df = pd.read_csv(f\"{BASE_PATH}\\\\NIFTY BANK_minute.csv\", index_col=0)\n",
    "start_date = \"2018-01-01\"\n",
    "end_date = \"2023-12-31\"\n",
    "## Converting the Date Column to a date-time index\n",
    "nifty_df[\"Date\"] = pd.to_datetime(nifty_df[\"Date\"])\n",
    "banknifty_df[\"Date\"] = pd.to_datetime(banknifty_df[\"Date\"])\n",
    "## Slice the data upto recent March 31st - March 31, 2023\n",
    "nifty_df = nifty_df[(nifty_df[\"Date\"]>=start_date) & (nifty_df[\"Date\"]<=end_date)]\n",
    "banknifty_df = banknifty_df[(banknifty_df[\"Date\"]>=start_date) & (banknifty_df[\"Date\"]<=end_date)]\n",
    "## Preparing the yearly dataframe\n",
    "nifty_monthly_df = create_monthly_dataframe(input_df=nifty_df)\n",
    "bn_monthly_df = create_monthly_dataframe(input_df=banknifty_df)"
   ]
  },
  {
   "cell_type": "code",
   "execution_count": null,
   "metadata": {},
   "outputs": [],
   "source": [
    "## Now add the column of change_percentage i.e. annual return for the year\n",
    "nifty_monthly_df[\"Chg_pct\"] = round(((nifty_monthly_df[\"Close\"]-nifty_monthly_df[\"Open\"])/nifty_monthly_df[\"Open\"])*100, 3)\n",
    "bn_monthly_df[\"Chg_pct\"] = round(((bn_monthly_df[\"Close\"]-bn_monthly_df[\"Open\"])/bn_monthly_df[\"Open\"])*100, 3)"
   ]
  },
  {
   "cell_type": "code",
   "execution_count": null,
   "metadata": {},
   "outputs": [],
   "source": [
    "## Filter out the required columns - Year, month, and Chg_pct\n",
    "nifty_monthly_df = nifty_monthly_df[[\"Year\",\"Month\",\"Chg_pct\"]]\n",
    "bn_monthly_df = bn_monthly_df[[\"Year\",\"Month\",\"Chg_pct\"]]"
   ]
  },
  {
   "cell_type": "code",
   "execution_count": null,
   "metadata": {},
   "outputs": [],
   "source": [
    "## Getting the order for months column of the dataframe\n",
    "nifty_monthly_df['Month'] = pd.Categorical(nifty_monthly_df['Month'], nifty_monthly_df['Month'].unique())\n",
    "bn_monthly_df['Month'] = pd.Categorical(bn_monthly_df['Month'], bn_monthly_df['Month'].unique())"
   ]
  },
  {
   "cell_type": "code",
   "execution_count": null,
   "metadata": {},
   "outputs": [],
   "source": [
    "## Plot of Nifty's Heatmap\n",
    "pivot_df = nifty_monthly_df.pivot(index=\"Month\",columns=\"Year\",values=\"Chg_pct\")\n",
    "f, ax = plt.subplots(figsize=(9, 6))\n",
    "sns.heatmap(pivot_df, annot=True, linewidths=.5, ax=ax)\n",
    "plt.title(\"NIFTY's Monthly Returns HeatMap\")\n",
    "plt.show()"
   ]
  },
  {
   "cell_type": "code",
   "execution_count": null,
   "metadata": {},
   "outputs": [],
   "source": [
    "## Plot of Bank Nifty's Heatmap\n",
    "pivot_df = bn_monthly_df.pivot(index=\"Month\",columns=\"Year\",values=\"Chg_pct\")\n",
    "f, ax = plt.subplots(figsize=(9, 6))\n",
    "sns.heatmap(pivot_df, annot=True, linewidths=0.5, ax=ax)\n",
    "plt.title(\"BANK NIFTY's Monthly Returns HeatMap\")\n",
    "plt.show()"
   ]
  }
 ],
 "metadata": {
  "kernelspec": {
   "display_name": "Python 3",
   "language": "python",
   "name": "python3"
  },
  "language_info": {
   "codemirror_mode": {
    "name": "ipython",
    "version": 3
   },
   "file_extension": ".py",
   "mimetype": "text/x-python",
   "name": "python",
   "nbconvert_exporter": "python",
   "pygments_lexer": "ipython3",
   "version": "3.8.5"
  },
  "orig_nbformat": 4
 },
 "nbformat": 4,
 "nbformat_minor": 2
}
